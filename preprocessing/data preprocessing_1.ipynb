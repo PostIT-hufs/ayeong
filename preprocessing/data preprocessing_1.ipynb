{
 "cells": [
  {
   "cell_type": "markdown",
   "id": "cd9d0b20",
   "metadata": {},
   "source": [
    "# 패키지 임포트"
   ]
  },
  {
   "cell_type": "code",
   "execution_count": 1,
   "id": "a6126f0e",
   "metadata": {},
   "outputs": [],
   "source": [
    "import os\n",
    "import re\n",
    "from bs4 import BeautifulSoup\n",
    "import h5py"
   ]
  },
  {
   "cell_type": "markdown",
   "id": "e7e0a904",
   "metadata": {},
   "source": [
    "# 데이터 전처리"
   ]
  },
  {
   "cell_type": "markdown",
   "id": "2bb25f1a",
   "metadata": {},
   "source": [
    "## 전처리함수 (쓸데없는 표현 지우기)"
   ]
  },
  {
   "cell_type": "code",
   "execution_count": 2,
   "id": "78d58005",
   "metadata": {},
   "outputs": [],
   "source": [
    "def preprocess(text):\n",
    "    _filter = re.compile('[“]+')\n",
    "    text = _filter.sub(' \"', text)\n",
    "    _filter = re.compile('[”]+')\n",
    "    text = _filter.sub('\" ', text)\n",
    "    _filter = re.compile(\"[']+\")\n",
    "    text = _filter.sub(\"' \", text)\n",
    "    _filter = re.compile('[`]+')\n",
    "    text = _filter.sub(\" '\", text)    \n",
    "    _filter = re.compile('[ㄱ-ㅣ]+')\n",
    "    text = _filter.sub('', text)\n",
    "    _filter = re.compile('\\([^)]*\\)')\n",
    "    text = _filter.sub('', text)\n",
    "    _filter = re.compile('[^가-힣 0-9 a-z A-Z \\. \\, \\' \\\" \\? \\! \\\" \\' \\n]+')\n",
    "    text = _filter.sub('', text)\n",
    "    return text"
   ]
  },
  {
   "cell_type": "code",
   "execution_count": 3,
   "id": "eb871730",
   "metadata": {},
   "outputs": [
    {
     "data": {
      "text/plain": [
       "'  asdfsdf ! 좋다'"
      ]
     },
     "execution_count": 3,
     "metadata": {},
     "output_type": "execute_result"
    }
   ],
   "source": [
    "test_line = \"☆★ (가나다라) asdfsdf __!@# 좋다\"\n",
    "preprocess(test_line)"
   ]
  },
  {
   "cell_type": "markdown",
   "id": "5c63da92",
   "metadata": {},
   "source": [
    "## 수집한 데이터 하나의 txt파일로 합치기"
   ]
  },
  {
   "cell_type": "markdown",
   "id": "f882c9d4",
   "metadata": {},
   "source": [
    "### 카이스트 소설 정제"
   ]
  },
  {
   "cell_type": "markdown",
   "id": "a3c35cd6",
   "metadata": {},
   "source": [
    "시는 한자가 뒤지게많아서 버리자\n",
    "\n",
    "소설은 1. 2. 이런 챕터정보 삭제하는 게 나을듯\n",
    "\n",
    "태그형식으로 되어있는 거보니까 beautifulsoup 사용해서 내용만 먼저 뽑아내야 할듯"
   ]
  },
  {
   "cell_type": "code",
   "execution_count": 4,
   "id": "d64a9422",
   "metadata": {},
   "outputs": [
    {
     "name": "stdout",
     "output_type": "stream",
     "text": [
      "literature_novel_aaa003.txt 통합\n",
      "literature_novel_aaa007.txt 통합\n",
      "literature_novel_aaa008.txt 통합\n",
      "literature_novel_aaa009.txt 통합\n",
      "literature_novel_aaa010.txt 통합\n",
      "literature_novel_aaa011.txt 통합\n",
      "literature_novel_aaa012.txt 통합\n",
      "literature_novel_aaa015.txt 통합\n",
      "literature_novel_aaa016.txt 통합\n",
      "literature_novel_aaa020.txt 통합\n",
      "literature_novel_aaa023.txt 통합\n",
      "literature_novel_aaa025.txt 통합\n",
      "literature_novel_aaa026.txt 통합\n",
      "literature_novel_aaa029.txt 통합\n",
      "literature_novel_aaa031.txt 통합\n",
      "literature_novel_aaa032.txt 통합\n",
      "literature_novel_aaa037.txt 통합\n",
      "literature_novel_aaa040.txt 통합\n",
      "literature_novel_aaa041.txt 통합\n",
      "literature_novel_aaa042.txt 통합\n",
      "literature_novel_aaa043.txt 통합\n",
      "literature_novel_aaa045.txt 통합\n",
      "literature_novel_aaa046.txt 통합\n",
      "literature_novel_aaa048.txt 통합\n",
      "literature_novel_aaa049.txt 통합\n",
      "literature_novel_aaa051.txt 통합\n",
      "literature_novel_aaa053.txt 통합\n",
      "literature_novel_aaa059.txt 통합\n",
      "literature_novel_aaa060.txt 통합\n",
      "literature_novel_aaa064.txt 통합\n",
      "literature_novel_aaa066.txt 통합\n",
      "literature_novel_aaa067.txt 통합\n",
      "literature_novel_aaa069.txt 통합\n",
      "literature_novel_aaa070.txt 통합\n",
      "literature_novel_aaa071.txt 통합\n",
      "literature_novel_aaa072.txt 통합\n",
      "literature_novel_aaa073.txt 통합\n",
      "literature_novel_aaa074.txt 통합\n",
      "literature_novel_aaa075.txt 통합\n",
      "literature_novel_aaa078.txt 통합\n",
      "literature_novel_aaa079.txt 통합\n",
      "literature_novel_aaa080.txt 통합\n",
      "literature_novel_aaa081.txt 통합\n",
      "literature_novel_aaa090.txt 통합\n",
      "literature_novel_aaa093.txt 통합\n",
      "literature_novel_aaa094.txt 통합\n",
      "literature_novel_aaa095.txt 통합\n",
      "literature_novel_aaa096.txt 통합\n",
      "literature_novel_aaa097.txt 통합\n",
      "literature_novel_aaa098.txt 통합\n",
      "literature_novel_aaa099.txt 통합\n",
      "literature_novel_aaa102.txt 통합\n",
      "literature_novel_aaa107.txt 통합\n",
      "literature_novel_aaa114.txt 통합\n",
      "literature_novel_aaa116.txt 통합\n",
      "literature_novel_aaa117.txt 통합\n",
      "literature_novel_aaa118.txt 통합\n",
      "literature_novel_aaa119.txt 통합\n",
      "literature_novel_aaa120.txt 통합\n",
      "literature_novel_aaa121.txt 통합\n",
      "literature_novel_aaa126.txt 통합\n",
      "literature_novel_aaa127.txt 통합\n",
      "literature_novel_aaa128.txt 통합\n",
      "literature_novel_aaa129.txt 통합\n",
      "literature_novel_aaa130.txt 통합\n",
      "literature_novel_aaa131.txt 통합\n",
      "literature_novel_aaa132.txt 통합\n",
      "literature_novel_aaa133.txt 통합\n",
      "literature_novel_aaa134.txt 통합\n",
      "literature_novel_aaa135.txt 통합\n",
      "literature_novel_aaa136.txt 통합\n",
      "literature_novel_AAA137.txt 통합\n",
      "literature_novel_aaa138.txt 통합\n",
      "literature_novel_aaa139.txt 통합\n",
      "literature_novel_aaa140.txt 통합\n",
      "literature_novel_aaa141.txt 통합\n",
      "literature_novel_aaa142.txt 통합\n",
      "literature_novel_aaa143.txt 통합\n",
      "literature_novel_aaa144.txt 통합\n",
      "literature_novel_aaa145.txt 통합\n",
      "literature_novel_aba004.txt 통합\n",
      "literature_novel_aba005.txt 통합\n",
      "literature_novel_aba006.txt 통합\n",
      "literature_novel_aba007.txt 통합\n",
      "literature_novel_aba008.txt 통합\n",
      "literature_novel_aba010.txt 통합\n",
      "literature_novel_aba011.txt 통합\n",
      "literature_novel_aba012.txt 통합\n",
      "literature_novel_aba013.txt 통합\n",
      "literature_novel_aba015.txt 통합\n",
      "literature_novel_aba017.txt 통합\n",
      "literature_novel_aba018.txt 통합\n",
      "literature_novel_aba019.txt 통합\n",
      "literature_novel_aba020.txt 통합\n",
      "literature_novel_aba021.txt 통합\n",
      "literature_novel_aba023.txt 통합\n",
      "literature_novel_aba024.txt 통합\n",
      "literature_novel_ada005.txt 통합\n",
      "literature_novel_ada006.txt 통합\n",
      "literature_novel_ada016.txt 통합\n",
      "literature_novel_ada022.txt 통합\n",
      "literature_novel_ada023.txt 통합\n",
      "literature_novel_ada024.txt 통합\n",
      "literature_novel_ada029.txt 통합\n",
      "literature_novel_ada030.txt 통합\n",
      "literature_novel_ada031.txt 통합\n",
      "literature_novel_ada032.txt 통합\n",
      "literature_novel_ada035.txt 통합\n",
      "literature_novel_ada036.txt 통합\n",
      "literature_novel_ada038.txt 통합\n",
      "literature_novel_ada039.txt 통합\n",
      "literature_novel_ada040.txt 통합\n",
      "literature_novel_ada041.txt 통합\n",
      "literature_novel_ada043.txt 통합\n",
      "literature_novel_ada050.txt 통합\n",
      "literature_novel_ada052.txt 통합\n",
      "literature_novel_ada053.txt 통합\n",
      "literature_novel_ada054.txt 통합\n",
      "literature_novel_ada055.txt 통합\n",
      "literature_novel_ada056.txt 통합\n",
      "literature_novel_ada057.txt 통합\n",
      "literature_novel_ada058.txt 통합\n",
      "literature_novel_ada060.txt 통합\n",
      "literature_novel_ada061.txt 통합\n",
      "literature_novel_aeb005.txt 통합\n",
      "literature_novel_aeb006.txt 통합\n",
      "literature_novel_aeb007.txt 통합\n",
      "literature_novel_AFA001.txt 통합\n",
      "literature_novel_AFA002.txt 통합\n",
      "literature_novel_AFA003.txt 통합\n",
      "literature_novel_AFA004.txt 통합\n",
      "literature_novel_AFA005.txt 통합\n",
      "literature_novel_AFA006.txt 통합\n",
      "literature_novel_AFB001.txt 통합\n",
      "literature_novel_AFB002.txt 통합\n",
      "literature_novel_AFB003.txt 통합\n",
      "literature_novel_AFB004.txt 통합\n",
      "literature_novel_AFB005.txt 통합\n",
      "literature_novel_AFB008.txt 통합\n",
      "literature_novel_AFB009.txt 통합\n",
      "literature_novel_AFB011.txt 통합\n",
      "literature_novel_ga0202-001.txt 통합\n",
      "literature_novel_ga0202-002.txt 통합\n",
      "literature_novel_ga0202-003.txt 통합\n",
      "literature_novel_go.txt 통합\n",
      "literature_novel_mh2-0065.txt 통합\n",
      "literature_novel_mh2-0155.txt 통합\n",
      "literature_novel_mh2-0170.txt 통합\n",
      "literature_novel_mh2-0171.txt 통합\n",
      "literature_novel_mh2-0214.txt 통합\n",
      "literature_novel_mh2-0220.txt 통합\n",
      "literature_novel_mh2-0224.txt 통합\n",
      "literature_novel_mh2-0225.txt 통합\n",
      "literature_novel_mh2-0227.txt 통합\n",
      "literature_novel_mh2-0242.txt 통합\n",
      "literature_novel_mh2-0243.txt 통합\n",
      "literature_novel_mh2-0244.txt 통합\n",
      "literature_novel_mh2-0245.txt 통합\n",
      "literature_novel_mh2-0246.txt 통합\n",
      "literature_novel_mh2-0247.txt 통합\n",
      "literature_novel_mh2-0248.txt 통합\n",
      "literature_novel_mh2-0249.txt 통합\n",
      "literature_novel_mh2-0250.txt 통합\n",
      "literature_novel_mh2-0254.txt 통합\n",
      "literature_novel_mh2-0275.txt 통합\n",
      "literature_novel_mh2-0279.txt 통합\n",
      "literature_novel_mh2-0281.txt 통합\n",
      "literature_novel_mh2-0284.txt 통합\n",
      "literature_novel_mh2-0286.txt 통합\n",
      "literature_novel_mh2-0289.txt 통합\n",
      "literature_novel_mh2-0290.txt 통합\n",
      "literature_novel_mh2-0303.txt 통합\n",
      "literature_novel_mh2-0304.txt 통합\n",
      "literature_novel_mh2-0305.txt 통합\n",
      "literature_novel_mh2-0324.txt 통합\n",
      "literature_novel_mh2-0333.txt 통합\n",
      "literature_novel_mh2-0335.txt 통합\n",
      "literature_novel_mh2-0336.txt 통합\n",
      "literature_novel_mh2-0341.txt 통합\n",
      "literature_novel_mh2-0343.txt 통합\n",
      "literature_novel_mh2-0361.txt 통합\n",
      "literature_novel_mh2-0375.txt 통합\n",
      "literature_novel_mh2-0383.txt 통합\n",
      "literature_novel_mh2-0385.txt 통합\n",
      "literature_novel_mh2-0412.txt 통합\n",
      "literature_novel_mh2-0415.txt 통합\n",
      "literature_novel_mh2-0420.txt 통합\n",
      "literature_novel_mh2-0421.txt 통합\n",
      "literature_novel_mh2-0422.txt 통합\n",
      "literature_novel_mh2-0423.txt 통합\n",
      "literature_novel_mh2-0424.txt 통합\n",
      "literature_novel_mh2-0426.txt 통합\n",
      "literature_novel_mh2-0454.txt 통합\n",
      "literature_novel_mh2-0460.txt 통합\n",
      "literature_novel_mh2-0462.txt 통합\n",
      "literature_novel_mh2-0463.txt 통합\n",
      "literature_novel_mh2-0464.txt 통합\n",
      "literature_novel_mh2-0470.txt 통합\n",
      "literature_novel_mh2-0471.txt 통합\n",
      "literature_novel_mh2-0473.txt 통합\n",
      "literature_novel_mh2-0474.txt 통합\n",
      "literature_novel_mh2-0476.txt 통합\n",
      "literature_novel_mh2-0477.txt 통합\n",
      "literature_novel_mh2-0478.txt 통합\n",
      "literature_novel_mh2-0483.txt 통합\n",
      "literature_novel_mh2-0493.txt 통합\n",
      "literature_novel_mh2-0494.txt 통합\n",
      "literature_novel_mh2-0512.txt 통합\n",
      "literature_novel_mh2-0513.txt 통합\n",
      "literature_novel_mh2-0514.txt 통합\n",
      "literature_novel_mh2-0515.txt 통합\n",
      "literature_novel_mh2-0522.txt 통합\n",
      "literature_novel_mh2-0531.txt 통합\n",
      "literature_novel_mh2-0532.txt 통합\n",
      "literature_novel_mh2-0556.txt 통합\n",
      "literature_novel_mh2-0557.txt 통합\n",
      "literature_novel_mh2-0558.txt 통합\n",
      "literature_novel_mh2-0582.txt 통합\n",
      "literature_novel_mh2-0599.txt 통합\n",
      "literature_novel_mh2-0609.txt 통합\n",
      "literature_novel_mh2-0613.txt 통합\n",
      "literature_novel_mh2-0698.txt 통합\n",
      "literature_novel_mh2-0741.txt 통합\n",
      "literature_novel_mh2-0748.txt 통합\n",
      "literature_novel_mh2-0751.txt 통합\n",
      "literature_novel_mh2-0759.txt 통합\n",
      "literature_novel_mh2-0760.txt 통합\n",
      "literature_novel_mh2-0761.txt 통합\n",
      "literature_novel_mh2-0769.txt 통합\n",
      "literature_novel_mh2-0772.txt 통합\n",
      "literature_novel_mh2-0784.txt 통합\n",
      "literature_novel_mh2-0785.txt 통합\n",
      "literature_novel_mh2-0788.txt 통합\n",
      "literature_novel_mh2-0795.txt 통합\n",
      "literature_novel_mh2-0797.txt 통합\n",
      "literature_novel_mh2-0801.txt 통합\n",
      "literature_novel_mh2-0802.txt 통합\n",
      "literature_novel_mh2-0803.txt 통합\n",
      "literature_novel_mh2-0807.txt 통합\n",
      "literature_novel_mh2-0808.txt 통합\n",
      "literature_novel_mh2-0810.txt 통합\n",
      "literature_novel_mh2-0811.txt 통합\n",
      "literature_novel_mh2-0812.txt 통합\n",
      "literature_novel_mh2-0813.txt 통합\n",
      "literature_novel_mh2-0814.txt 통합\n",
      "literature_novel_mh2-0815.txt 통합\n",
      "literature_novel_mh2-0822.txt 통합\n",
      "literature_novel_mh2-0823.txt 통합\n",
      "literature_novel_mh2-0824.txt 통합\n",
      "literature_novel_mh2-0825.txt 통합\n",
      "literature_novel_mh2-0828.txt 통합\n",
      "literature_novel_mh2-0833.txt 통합\n",
      "literature_novel_mh2-0834.txt 통합\n",
      "literature_novel_mh2-0844.txt 통합\n",
      "literature_novel_mh2-0846.txt 통합\n",
      "literature_novel_mh2-0866.txt 통합\n",
      "literature_novel_mh2-0898.txt 통합\n",
      "literature_novel_mh2-0900.txt 통합\n",
      "literature_novel_mh2-0901.txt 통합\n",
      "literature_novel_mh2-0903.txt 통합\n",
      "literature_novel_mh2-0911.txt 통합\n"
     ]
    },
    {
     "name": "stdout",
     "output_type": "stream",
     "text": [
      "literature_novel_mh2-0912.txt 통합\n",
      "literature_novel_mh2-0913.txt 통합\n",
      "literature_novel_mh2-0919.txt 통합\n",
      "literature_novel_mh2-0921.txt 통합\n",
      "literature_novel_mh2-0930.txt 통합\n",
      "literature_novel_mh2-0942.txt 통합\n",
      "literature_novel_mh2-0948.txt 통합\n",
      "literature_novel_mh2-0957.txt 통합\n",
      "literature_novel_mh2-0965.txt 통합\n",
      "literature_novel_mh2-0974.txt 통합\n",
      "literature_novel_mh2-0982.txt 통합\n",
      "literature_novel_mh2-0983.txt 통합\n",
      "literature_novel_mh2-0987.txt 통합\n",
      "literature_novel_mh2-0988.txt 통합\n",
      "literature_novel_mh2-0989.txt 통합\n",
      "literature_novel_mh2-0990.txt 통합\n",
      "literature_novel_mh2-0991.txt 통합\n",
      "literature_novel_mh2-0994.txt 통합\n",
      "literature_novel_mh2-0998.txt 통합\n",
      "literature_novel_mh2-1000.txt 통합\n",
      "literature_novel_mh2-1033.txt 통합\n",
      "literature_novel_mh2-1034.txt 통합\n",
      "literature_novel_mh2-1035.txt 통합\n",
      "literature_novel_mh2-1036.txt 통합\n",
      "literature_novel_mh2-1052.txt 통합\n",
      "literature_novel_mh2-1058.txt 통합\n",
      "literature_novel_mh2-1059.txt 통합\n",
      "literature_novel_mh2-1064.txt 통합\n",
      "literature_novel_mh2-1065.txt 통합\n",
      "literature_novel_mh2-1068.txt 통합\n",
      "literature_novel_mh2-1074.txt 통합\n",
      "literature_novel_mh2-1078.txt 통합\n",
      "literature_novel_mh2-1079.txt 통합\n",
      "literature_novel_mh2-1095.txt 통합\n",
      "literature_novel_mh2-1096.txt 통합\n",
      "literature_novel_mh2-1099.txt 통합\n",
      "literature_novel_mh2-1109.txt 통합\n",
      "literature_novel_mh2-1113.txt 통합\n",
      "literature_novel_mh2-1128.txt 통합\n",
      "literature_novel_mh2-1130.txt 통합\n",
      "literature_novel_mh2-1132.txt 통합\n",
      "literature_novel_mh2-1133.txt 통합\n",
      "literature_novel_mh2-1134.txt 통합\n",
      "literature_novel_mh2-1137.txt 통합\n",
      "literature_novel_mh2-1143.txt 통합\n",
      "literature_novel_mh2-1146.txt 통합\n",
      "literature_novel_mh2-1151.txt 통합\n",
      "literature_novel_mh2-1153.txt 통합\n",
      "literature_novel_mh2-1243.txt 통합\n",
      "literature_novel_mh2-1251.txt 통합\n",
      "literature_novel_mh2-1280.txt 통합\n",
      "literature_novel_mh2-1284.txt 통합\n",
      "literature_novel_mh2-1286.txt 통합\n",
      "literature_novel_mh2-1292.txt 통합\n",
      "literature_novel_mh2-1294.txt 통합\n",
      "literature_novel_mh2-1305.txt 통합\n",
      "literature_novel_mh2-1306.txt 통합\n",
      "literature_novel_mh2-1307.txt 통합\n",
      "literature_novel_mh2-1311.txt 통합\n",
      "literature_novel_mh2-1313.txt 통합\n",
      "literature_novel_mh2-1317.txt 통합\n",
      "literature_novel_mh2-1324.txt 통합\n",
      "literature_novel_mh2-1325.txt 통합\n",
      "literature_novel_mh2-1328.txt 통합\n",
      "literature_novel_mh2-1333.txt 통합\n",
      "literature_novel_mh2-1347.txt 통합\n",
      "literature_novel_mh2-1349.txt 통합\n",
      "literature_novel_mh2-1350.txt 통합\n",
      "literature_novel_mh2-1352.txt 통합\n",
      "literature_novel_mh2-1354.txt 통합\n",
      "literature_novel_mh2-1359.txt 통합\n",
      "literature_novel_mh2-1360.txt 통합\n",
      "literature_novel_mh2-1365.txt 통합\n",
      "literature_novel_mh2-1371.txt 통합\n",
      "literature_novel_mh2-1372.txt 통합\n",
      "literature_novel_mh2-1379.txt 통합\n",
      "literature_novel_mh2-1385.txt 통합\n",
      "literature_novel_mh2-1386.txt 통합\n",
      "literature_novel_mh2-1401.txt 통합\n",
      "literature_novel_mh2-1403.txt 통합\n",
      "literature_novel_mh2-1404.txt 통합\n",
      "literature_novel_mh2-1406.txt 통합\n",
      "literature_novel_mh2-1408.txt 통합\n",
      "literature_novel_mh2-1409.txt 통합\n",
      "literature_novel_mh2-1411.txt 통합\n",
      "literature_novel_mh2-1412.txt 통합\n",
      "literature_novel_mh2-1413.txt 통합\n",
      "literature_novel_mh2-1414.txt 통합\n",
      "literature_novel_mh2-1416.txt 통합\n",
      "literature_novel_mh2-1418.txt 통합\n",
      "literature_novel_mh2-1419.txt 통합\n",
      "literature_novel_mh2-1420.txt 통합\n",
      "literature_novel_mh2-1421.txt 통합\n",
      "literature_novel_mh2-1424.txt 통합\n",
      "literature_novel_mh2-1425.txt 통합\n",
      "literature_novel_mh2-1441.txt 통합\n",
      "literature_novel_mh2-1446.txt 통합\n",
      "literature_novel_mh2-1447.txt 통합\n",
      "literature_novel_mh2-1457.txt 통합\n",
      "literature_novel_mh2-1461.txt 통합\n",
      "literature_novel_mh2-1462.txt 통합\n",
      "literature_novel_mh2-1478.txt 통합\n",
      "literature_novel_mh2-1491.txt 통합\n",
      "literature_novel_mh2-1492.txt 통합\n",
      "literature_novel_mh2-1493.txt 통합\n",
      "literature_novel_mh2-1495.txt 통합\n",
      "literature_novel_mh2-1499.txt 통합\n",
      "literature_novel_simon.txt 통합\n",
      "literature_novel_aaa018.txt 통합\n",
      "literature_novel_AAA021.txt 통합\n",
      "literature_novel_aaa056.txt 통합\n",
      "literature_novel_aaa057.txt 통합\n",
      "literature_novel_aaa076.txt 통합\n",
      "literature_novel_aaa077.txt 통합\n",
      "literature_novel_aaa082.txt 통합\n",
      "literature_novel_AAA103.txt 통합\n",
      "literature_novel_AAA104.txt 통합\n",
      "literature_novel_aaa109.txt 통합\n",
      "literature_novel_AAA110.txt 통합\n",
      "literature_novel_AAA111.txt 통합\n",
      "literature_novel_aaa113.txt 통합\n",
      "literature_novel_aaa122.txt 통합\n",
      "literature_novel_aaa123.txt 통합\n",
      "literature_novel_aaa124.txt 통합\n",
      "literature_novel_aaa125.txt 통합\n",
      "literature_novel_AFB006.txt 통합\n",
      "literature_novel_AFB007.txt 통합\n",
      "literature_novel_bgb006.txt 통합\n",
      "literature_novel_bgb007.txt 통합\n",
      "literature_novel_bgb008.txt 통합\n",
      "literature_novel_bird.txt 통합\n",
      "literature_novel_mh2-0208.txt 통합\n",
      "literature_novel_mh2-0222.txt 통합\n",
      "literature_novel_mh2-0226.txt 통합\n",
      "literature_novel_mh2-0230.txt 통합\n",
      "literature_novel_mh2-0232.txt 통합\n",
      "literature_novel_mh2-0270.txt 통합\n",
      "literature_novel_mh2-0273.txt 통합\n",
      "literature_novel_mh2-0282.txt 통합\n",
      "literature_novel_mh2-0287.txt 통합\n",
      "literature_novel_mh2-0293.txt 통합\n",
      "literature_novel_mh2-0294.txt 통합\n",
      "literature_novel_mh2-0297.txt 통합\n",
      "literature_novel_mh2-0302.txt 통합\n",
      "literature_novel_mh2-0307.txt 통합\n",
      "literature_novel_mh2-0308.txt 통합\n",
      "literature_novel_mh2-0311.txt 통합\n",
      "literature_novel_mh2-0312.txt 통합\n",
      "literature_novel_mh2-0313.txt 통합\n",
      "literature_novel_mh2-0314.txt 통합\n",
      "literature_novel_mh2-0394.txt 통합\n",
      "literature_novel_mh2-0395.txt 통합\n",
      "literature_novel_mh2-0396.txt 통합\n",
      "literature_novel_mh2-0409.txt 통합\n",
      "literature_novel_mh2-0416.txt 통합\n",
      "literature_novel_mh2-0419.txt 통합\n",
      "literature_novel_mh2-0425.txt 통합\n",
      "literature_novel_mh2-0439.txt 통합\n",
      "literature_novel_mh2-0442.txt 통합\n",
      "literature_novel_mh2-0443.txt 통합\n",
      "literature_novel_mh2-0583.txt 통합\n",
      "literature_novel_mh2-0608.txt 통합\n",
      "literature_novel_mh2-0615.txt 통합\n",
      "literature_novel_mh2-0616.txt 통합\n",
      "literature_novel_mh2-0628.txt 통합\n",
      "literature_novel_mh2-0743.txt 통합\n",
      "literature_novel_mh2-0754.txt 통합\n",
      "literature_novel_mh2-0756.txt 통합\n",
      "literature_novel_mh2-0789.txt 통합\n",
      "literature_novel_mh2-0793.txt 통합\n",
      "literature_novel_mh2-0804.txt 통합\n",
      "literature_novel_mh2-0843.txt 통합\n",
      "literature_novel_mh2-0895.txt 통합\n",
      "literature_novel_mh2-0899.txt 통합\n",
      "literature_novel_mh2-0909.txt 통합\n",
      "literature_novel_mh2-0931.txt 통합\n",
      "literature_novel_mh2-0932.txt 통합\n",
      "literature_novel_mh2-0935.txt 통합\n",
      "literature_novel_mh2-0938.txt 통합\n",
      "literature_novel_mh2-0944.txt 통합\n",
      "literature_novel_mh2-0946.txt 통합\n",
      "literature_novel_mh2-0949.txt 통합\n",
      "literature_novel_mh2-0950.txt 통합\n",
      "literature_novel_mh2-0958.txt 통합\n",
      "literature_novel_mh2-0966.txt 통합\n",
      "literature_novel_mh2-0969.txt 통합\n",
      "literature_novel_mh2-0972.txt 통합\n",
      "literature_novel_mh2-0975.txt 통합\n",
      "literature_novel_mh2-0976.txt 통합\n",
      "literature_novel_mh2-0979.txt 통합\n",
      "literature_novel_mh2-0995.txt 통합\n",
      "literature_novel_mh2-1028.txt 통합\n",
      "literature_novel_mh2-1046.txt 통합\n",
      "literature_novel_mh2-1112.txt 통합\n",
      "literature_novel_mh2-1114.txt 통합\n",
      "literature_novel_mh2-1117.txt 통합\n",
      "literature_novel_mh2-1121.txt 통합\n",
      "literature_novel_mh2-1127.txt 통합\n",
      "literature_novel_mh2-1129.txt 통합\n",
      "literature_novel_mh2-1136.txt 통합\n",
      "literature_novel_mh2-1278.txt 통합\n",
      "literature_novel_mh2-1285.txt 통합\n",
      "literature_novel_mh2-1289.txt 통합\n",
      "literature_novel_mh2-1300.txt 통합\n",
      "literature_novel_mh2-1314.txt 통합\n",
      "literature_novel_mh2-1320.txt 통합\n",
      "literature_novel_mh2-1345.txt 통합\n",
      "literature_novel_mh2-1362.txt 통합\n",
      "literature_novel_mh2-1392.txt 통합\n",
      "literature_novel_mh2-1395.txt 통합\n",
      "literature_novel_mh2-1449.txt 통합\n",
      "literature_novel_mh2-1452.txt 통합\n",
      "literature_novel_mh2-1453.txt 통합\n",
      "short_novel_001.txt 통합\n",
      "short_novel_002.txt 통합\n",
      "short_novel_003.txt 통합\n",
      "short_novel_004.txt 통합\n",
      "short_novel_005.txt 통합\n",
      "short_novel_006.txt 통합\n"
     ]
    }
   ],
   "source": [
    "directory = './데이터/CATEGORY/소설/'\n",
    "outfile_kaist = './데이터/CATEGORY/정제/merged_kaist.txt'\n",
    "outfile = open(outfile_kaist,'w')\n",
    "\n",
    "files = os.listdir(directory)\n",
    "\n",
    "for filename in files:\n",
    "    if \"kaistcorpus\" in filename:\n",
    "        print(filename[27:]+\" 통합\")\n",
    "        try:\n",
    "            file = open(directory+filename, encoding='cp949')\n",
    "            soup=BeautifulSoup(file, 'html.parser')\n",
    "        except:\n",
    "            file = open(directory+filename, encoding='utf-8')\n",
    "            soup=BeautifulSoup(file, 'html.parser')\n",
    "\n",
    "\n",
    "        temp = soup.tdmsfiletext.text\n",
    "        for line in temp.split('\\n'):\n",
    "            outfile.write(preprocess(line))\n",
    "        outfile.write(\"\\n\\n\")\n",
    "        file.close\n",
    "    elif \"short\" in filename:\n",
    "        print(filename+\" 통합\")\n",
    "        try:\n",
    "            file = open(directory+filename, encoding='utf-8')\n",
    "        except:\n",
    "            file = open(directory+filename, encoding='cp949')\n",
    "        for line in file:\n",
    "            outfile.write(preprocess(line))\n",
    "        outfile.write(\"\\n\\n\")\n",
    "        file.close        \n",
    "outfile.close()"
   ]
  },
  {
   "cell_type": "markdown",
   "id": "995e9eed",
   "metadata": {},
   "source": [
    "### 신춘문예 파일 정제"
   ]
  },
  {
   "cell_type": "markdown",
   "id": "6b8b1607",
   "metadata": {},
   "source": [
    "merged_data.txt로 저장"
   ]
  },
  {
   "cell_type": "code",
   "execution_count": 12,
   "id": "63b7aaa0",
   "metadata": {},
   "outputs": [
    {
     "name": "stdout",
     "output_type": "stream",
     "text": [
      "literature2021_001.txt통합\n",
      "literature2021_002.txt통합\n",
      "literature2021_003.txt통합\n",
      "literature2021_004.txt통합\n",
      "literature2021_005.txt통합\n",
      "literature2021_006.txt통합\n",
      "literature2021_007.txt통합\n",
      "literature2021_008.txt통합\n",
      "literature2021_009.txt통합\n",
      "literature2021_010.txt통합\n",
      "literature2021_011.txt통합\n",
      "literature2021_012.txt통합\n",
      "literature2021_013.txt통합\n",
      "literature2021_014.txt통합\n",
      "literature2020_006.txt통합\n",
      "literature2020_001.txt통합\n",
      "literature2020_002.txt통합\n",
      "literature2020_003.txt통합\n",
      "literature2020_004.txt통합\n",
      "literature2020_005.txt통합\n",
      "literature2020_007.txt통합\n",
      "literature2020_008.txt통합\n",
      "literature2020_009.txt통합\n",
      "literature2020_010.txt통합\n",
      "literature2020_011.txt통합\n",
      "literature2020_012.txt통합\n",
      "literature2020_013.txt통합\n",
      "literature2020_014.txt통합\n",
      "literature2020_015.txt통합\n",
      "literature2020_016.txt통합\n",
      "literature2019_001.txt통합\n",
      "literature2019_002.txt통합\n",
      "literature2019_003.txt통합\n",
      "literature2019_004.txt통합\n",
      "literature2019_005.txt통합\n",
      "literature2019_006.txt통합\n",
      "literature2019_007.txt통합\n",
      "literature2019_008.txt통합\n",
      "literature2019_009.txt통합\n",
      "literature2019_010.txt통합\n",
      "literature2019_011.txt통합\n",
      "literature2019_012.txt통합\n",
      "literature2019_013.txt통합\n",
      "literature2019_014.txt통합\n",
      "literature2019_015.txt통합\n",
      "literature2019_016.txt통합\n",
      "literature2018_001.txt통합\n",
      "literature2018_002.txt통합\n",
      "literature2018_003.txt통합\n",
      "literature2018_004.txt통합\n",
      "literature2018_005.txt통합\n",
      "literature2018_006.txt통합\n",
      "literature2018_007.txt통합\n",
      "literature2018_008.txt통합\n",
      "literature2018_009.txt통합\n",
      "literature2018_010.txt통합\n",
      "literature2018_011.txt통합\n",
      "literature2018_012.txt통합\n",
      "literature2018_013.txt통합\n",
      "literature2018_014.txt통합\n",
      "literature2018_015.txt통합\n",
      "literature2016_001.txt통합\n",
      "literature2016_002.txt통합\n",
      "literature2016_003.txt통합\n",
      "literature2016_004.txt통합\n",
      "literature2016_005.txt통합\n",
      "literature2016_006.txt통합\n",
      "literature2016_007.txt통합\n",
      "literature2016_008.txt통합\n",
      "literature2016_009.txt통합\n",
      "literature2016_010.txt통합\n",
      "literature2016_011.txt통합\n",
      "literature2016_012.txt통합\n",
      "literature2016_013.txt통합\n",
      "literature2016_014.txt통합\n",
      "literature2017_001.txt통합\n",
      "literature2017_002.txt통합\n",
      "literature2017_003.txt통합\n",
      "literature2017_004.txt통합\n",
      "literature2017_005.txt통합\n",
      "literature2017_006.txt통합\n",
      "literature2017_007.txt통합\n",
      "literature2017_008.txt통합\n",
      "literature2017_009.txt통합\n",
      "literature2017_010.txt통합\n",
      "literature2017_011.txt통합\n",
      "literature2017_012.txt통합\n",
      "literature2017_013.txt통합\n",
      "literature2017_014.txt통합\n",
      "literature_009.txt통합\n",
      "literature_001.txt통합\n",
      "literature_002.txt통합\n",
      "literature_003.txt통합\n",
      "literature_004.txt통합\n",
      "literature_005.txt통합\n",
      "literature_006.txt통합\n",
      "literature_007.txt통합\n",
      "literature_008.txt통합\n",
      "001.txt통합\n",
      "002.txt통합\n",
      "003.txt통합\n",
      "004.txt통합\n",
      "005.txt통합\n",
      "006.txt통합\n",
      "007.txt통합\n",
      "008.txt통합\n",
      "009.txt통합\n",
      "010.txt통합\n",
      "011.txt통합\n",
      "012.txt통합\n",
      "013.txt통합\n",
      "014(방적에 대해 잘 모르겠음).txt통합\n",
      "015.txt통합\n",
      "016.txt통합\n",
      "017.txt통합\n",
      "018.txt통합\n",
      "019.txt통합\n",
      "020.txt통합\n",
      "021.txt통합\n",
      "022.txt통합\n",
      "023.txt통합\n",
      "024.txt통합\n",
      "025.txt통합\n",
      "026.txt통합\n",
      "027.txt통합\n",
      "028.txt통합\n",
      "029.txt통합\n",
      "030.txt통합\n",
      "031.txt통합\n",
      "032.txt통합\n",
      "033.txt통합\n",
      "034.txt통합\n",
      "035.txt통합\n",
      "036.txt통합\n",
      "037.txt통합\n",
      "038.txt통합\n",
      "039.txt통합\n",
      "040.txt통합\n",
      "041.txt통합\n",
      "042.txt통합\n",
      "043.txt통합\n",
      "044.txt통합\n",
      "045.txt통합\n",
      "046.txt통합\n",
      "047.txt통합\n",
      "048.txt통합\n",
      "049.txt통합\n",
      "050.txt통합\n",
      "051.txt통합\n",
      "052.txt통합\n",
      "053.txt통합\n",
      "054.txt통합\n",
      "055.txt통합\n",
      "056.txt통합\n",
      "057.txt통합\n",
      "058.txt통합\n",
      "059.txt통합\n",
      "060.txt통합\n",
      "061.txt통합\n",
      "062.txt통합\n",
      "063.txt통합\n",
      "064.txt통합\n",
      "065.txt통합\n",
      "066.txt통합\n",
      "067.txt통합\n",
      "068.txt통합\n",
      "069.txt통합\n",
      "070.txt통합\n",
      "071.txt통합\n",
      "072.txt통합\n",
      "073.txt통합\n",
      "074.txt통합\n",
      "075.txt통합\n",
      "076.txt통합\n",
      "077.txt통합\n",
      "078.txt통합\n",
      "079.txt통합\n",
      "080.txt통합\n",
      "081.txt통합\n",
      "082.txt통합\n",
      "083.txt통합\n",
      "084.txt통합\n",
      "085.txt통합\n",
      "086.txt통합\n",
      "087.txt통합\n",
      "088.txt통합\n",
      "089.txt통합\n",
      "090.txt통합\n",
      "091.txt통합\n",
      "092.txt통합\n",
      "093.txt통합\n",
      "094.txt통합\n",
      "095하트.txt통합\n",
      "096.txt통합\n",
      "097.txt통합\n",
      "098.txt통합\n",
      "099.txt통합\n",
      "100.txt통합\n",
      "101.txt통합\n",
      "102.txt통합\n",
      "103.txt통합\n",
      "104.txt통합\n",
      "105.txt통합\n",
      "106.txt통합\n",
      "107.txt통합\n",
      "108.txt통합\n",
      "109.txt통합\n",
      "110.txt통합\n",
      "111.txt통합\n",
      "112.txt통합\n",
      "113.txt통합\n",
      "114.txt통합\n",
      "115.txt통합\n",
      "116.txt통합\n",
      "117.txt통합\n",
      "118.txt통합\n",
      "119.txt통합\n",
      "120.txt통합\n",
      "121.txt통합\n",
      "122.txt통합\n",
      "123.txt통합\n",
      "124.txt통합\n",
      "125.txt통합\n",
      "126.txt통합\n",
      "127.txt통합\n",
      "128.txt통합\n",
      "129.txt통합\n",
      "130.txt통합\n",
      "131.txt통합\n",
      "132.txt통합\n",
      "133.txt통합\n",
      "134.txt통합\n",
      "135.txt통합\n",
      "136.txt통합\n",
      "137.txt통합\n",
      "138.txt통합\n",
      "139.txt통합\n",
      "140.txt통합\n",
      "141.txt통합\n",
      "142.txt통합\n",
      "143.txt통합\n",
      "144.txt통합\n",
      "145.txt통합\n",
      "146.txt통합\n",
      "147.txt통합\n",
      "148.txt통합\n",
      "149.txt통합\n",
      "150.txt통합\n",
      "151.txt통합\n",
      "152.txt통합\n",
      "153.txt통합\n",
      "154.txt통합\n",
      "155.txt통합\n",
      "156.txt통합\n",
      "157.txt통합\n",
      "158.txt통합\n",
      "159.txt통합\n",
      "160.txt통합\n",
      "161.txt통합\n",
      "162.txt통합\n",
      "163.txt통합\n",
      "164.txt통합\n",
      "165.txt통합\n",
      "166.txt통합\n",
      "167.txt통합\n",
      "168.txt통합\n",
      "169.txt통합\n",
      "170.txt통합\n",
      "171.txt통합\n",
      "172.txt통합\n",
      "173.txt통합\n",
      "174.txt통합\n",
      "175.txt통합\n",
      "176.txt통합\n",
      "177.txt통합\n",
      "178.txt통합\n",
      "179.txt통합\n",
      "180.txt통합\n",
      "181.txt통합\n",
      "182.txt통합\n",
      "183.txt통합\n",
      "184.txt통합\n",
      "185.txt통합\n",
      "186.txt통합\n",
      "187.txt통합\n",
      "188.txt통합\n",
      "189.txt통합\n",
      "190.txt통합\n",
      "191.txt통합\n",
      "192.txt통합\n",
      "193.txt통합\n",
      "194.txt통합\n",
      "195.txt통합\n",
      "196.txt통합\n",
      "197.txt통합\n",
      "198.txt통합\n",
      "199.txt통합\n",
      "200.txt통합\n",
      "201(종교).txt통합\n",
      "202.txt통합\n",
      "203.txt통합\n",
      "204.txt통합\n",
      "205.txt통합\n",
      "206.txt통합\n",
      "207.txt통합\n",
      "208.txt통합\n",
      "209.txt통합\n",
      "210.txt통합\n"
     ]
    }
   ],
   "source": [
    "directory = './데이터/CATEGORY/동화/'\n",
    "outfile_sin = './데이터/CATEGORY/정제/merged_data.txt'\n",
    "\n",
    "outfile = open(outfile_sin,'w')\n",
    "\n",
    "files = os.listdir(directory)\n",
    "\n",
    "for filename in files:\n",
    "    if \".txt\" not in filename:\n",
    "        continue\n",
    "    print(filename+\"통합\")\n",
    "    try:\n",
    "        file = open(directory+filename, encoding='utf-8')\n",
    "    except:\n",
    "        file = open(directory+filename, encoding='cp949')\n",
    "    for line in file:\n",
    "        outfile.write(preprocess(line))\n",
    "    outfile.write(\"\\n\\n\")\n",
    "    file.close\n",
    "outfile.close()\n",
    "        \n"
   ]
  },
  {
   "cell_type": "markdown",
   "id": "9d202951",
   "metadata": {},
   "source": [
    "## 파일 불러오기"
   ]
  },
  {
   "cell_type": "code",
   "execution_count": 13,
   "id": "92d550f2",
   "metadata": {},
   "outputs": [
    {
     "data": {
      "text/plain": [
       "\"  작가 소개            경기도 여주에서 출생.            중앙대 문예창작학과를 졸업했다            1990년 중편소설 벽 속의 새로 ' 한국문학           신인상' 을 받으며 문단에 나왔다.            1982년 1월부터 ' 여원'  ' 가정조선'  등의 잡지사에서           11년 7개월 동안 기자 생활을 했다.            1992년 장편소설 황제수염을 발표, 문단의 주목을           받았고, 1994년 세 발 자전거를 타는 아이로           장편동화 부문 ' 삼성문예상' 을 수상했다.            1993년 8월 전업작가 선언, 지금은 창작에만           전념하고 있다.                         머리말                        이 소설은 완전한 픽션이 아니다. 즉, 모델이           있다는 얘기다. 굳이 내가 밝히지 않더라도, 이           소설을 읽어나가다 보면 그 모델이 누구라는 걸           알만한 사람은 다 알 것이다. 그러나 오해를           불러일으킬 소지가 있기에, 밝혀둘 것이 하나 있다.           죽음의 상황 자체는 실제 모델의 이야기에서 많은           부분을 빌어왔다. 그러나 소설 내용 중에 나오는 러브           스토리를 비롯한, 그 나머지 부분들은 거의가 다 내가           상상력으로 만들어 낸 것이다. 정확하게 말하면           논픽션과 픽션이 20대 80이라고 생각하면 된다.           대체로 소설의 앞부분은 논픽션 위주고 뒷부분은 거의           픽션 위주로 되어 있다.            나는 여러 가지로 이 소설에 대해 애착을 가지고           있다. 나는 정확하게 11년 7개월 동안 여성지 기자           생활을 했다. 그리고 나는 기자 생활을 하면서           취재했던 경험 중의 하나를 소설로 썼다. \""
      ]
     },
     "execution_count": 13,
     "metadata": {},
     "output_type": "execute_result"
    }
   ],
   "source": [
    "with open(outfile_kaist, 'r') as f:\n",
    "    data_k = f.read()\n",
    "data_k[:1000]"
   ]
  },
  {
   "cell_type": "code",
   "execution_count": 14,
   "id": "b73cc0b7",
   "metadata": {},
   "outputs": [
    {
     "data": {
      "text/plain": [
       "'교가 끝나고 나왔을 때 잔눈발이 날리더니 어느새 함박눈으로 바뀌었다. 그래도 민수는 걸음을 재촉하지 않는다. 일찍 가더라도 집에는 아무도 없다. 엄마가 오는 늦은 시간까지 민수는 외딴집에 혼자 있어야 한다. 혼자 있으면 외롭고 무섭다.\\n\\n\\' 누구라도 있었으면.\\' \\n\\n길을 걷는데 쓰레기통이 민수의 눈에 들어왔다. 안에는 눈에 반쯤 덮인 목각인형이 있었다.\\n\\n \"불쌍해.\" \\n\\n민수는 목각인형을 꺼내 눈을 훅 불어냈다. 목각인형을 들고 다시 집으로 향했다.\\n\\n민수가 외딴길로 접어들었을 때, 나무 아래에서 눈을 피하고 있는 고양이가 보였다. 고양이는 민수를 빤히 쳐다보았다. 이곳에서 자주 본 뚱뚱한 얼룩무늬 고양이였다. 얼룩 고양이는 팔짱을 끼고 두 발로 서 있었다. 마치 사람처럼.\\n\\n \"외톨이가 오늘은 목각인형을 가지고 가네.\" \\n\\n고양이가 말을 하자 민수는 깜짝 놀라서 목각인형을 떨어뜨렸다. 주워서 눈을 터는데, 고양이가 다가왔다.\\n\\n \"왜 그렇게 더러워?\" \\n\\n \"쓰레기통에 있었거든.\" \\n\\n \"더러운 걸 왜 가지고 왔어?\" \\n\\n \"불쌍해서 내가 친구가 되어 주려고.\" \\n\\n \"거짓말, 친구는 네가 필요하겠지. 너 가족도 없지?\" \\n\\n \"엄만 있어!\" \\n\\n민수는 자기도 모르게 높아진 목소리를 낮추었다.  \"일하느라 집에 늦게 오지만.\" \\n\\n고양이가 다시 걷는 민수를 따라붙으며 말했다.\\n\\n \"내가 목각인형 움직이게 해 줄까?\" \\n\\n \"정말? 그럴 수 있어?\" \\n\\n \"난 마법사 고양이야. 이건 마법 지팡이고.\" \\n\\n고양이는 작은 지팡이를 들어 보였다.\\n\\n \"대신 먹을 걸 줘.\" \\n\\n \"마법사가 음식도 못 만들어?\" \\n\\n \"내가 할 수 있는 마법이 있고 할 수 없는 마법이 있어.\" \\n\\n고양이는 퉁명스레 말하고는 민수를 따라 두 발로 느릿느릿 걸었다. 민수와 고양이의 머리에 눈이 하얗게 쌓여 갔다.\\n\\n \"힘들면 네 발로 걸어. 내가 지팡이 들어줄게.\" \\n\\n \"괜찮거든!\" \\n\\n고양이는 사람인 양 더 꿋꿋하게 두 발로 걸었다.\\n\\n민수는 집에 도착해서 거실에 있는 나무난로에 장'"
      ]
     },
     "execution_count": 14,
     "metadata": {},
     "output_type": "execute_result"
    }
   ],
   "source": [
    "with open(outfile_sin, 'r') as f:\n",
    "    data_s = f.read()\n",
    "\n",
    "data_s[:1000]"
   ]
  },
  {
   "cell_type": "markdown",
   "id": "167fc553",
   "metadata": {},
   "source": [
    "# 토큰화"
   ]
  },
  {
   "cell_type": "markdown",
   "id": "a98e578f",
   "metadata": {},
   "source": [
    "## 말뭉치 load"
   ]
  },
  {
   "cell_type": "markdown",
   "id": "3a370bdf",
   "metadata": {},
   "source": [
    "***나중에는 동화 데이터를 토큰화해서 자체적인 vocab을 만들어야함"
   ]
  },
  {
   "cell_type": "markdown",
   "id": "92731723",
   "metadata": {},
   "source": [
    "- load_data에서는 vocab에 있는 단어들을 orderdict에 담아 인덱스를 부여함\n",
    "- 이를 이용해서 우리가 갖고 있는 동화데이터들의 단어를 토큰화해 vocab 인덱스로 바꿔줄 것임"
   ]
  },
  {
   "cell_type": "code",
   "execution_count": 15,
   "id": "30c68a62",
   "metadata": {},
   "outputs": [],
   "source": [
    "from common.src.tokenization import *"
   ]
  },
  {
   "cell_type": "code",
   "execution_count": 16,
   "id": "21b0b36e",
   "metadata": {},
   "outputs": [
    {
     "name": "stdout",
     "output_type": "stream",
     "text": [
      "all tokens: 111981 \n",
      "\n"
     ]
    },
    {
     "data": {
      "text/plain": [
       "99067"
      ]
     },
     "execution_count": 16,
     "metadata": {},
     "output_type": "execute_result"
    }
   ],
   "source": [
    "vocab_path = \"./common/models/345K/vocab2.txt\"\n",
    "vocab = load_vocab(vocab_path)\n",
    "print('all tokens:', len(vocab), '\\n')\n",
    "vocab['아름다운']"
   ]
  },
  {
   "cell_type": "markdown",
   "id": "b0041a82",
   "metadata": {},
   "source": [
    "## 토크나이저"
   ]
  },
  {
   "cell_type": "code",
   "execution_count": 17,
   "id": "cc0b83f7",
   "metadata": {},
   "outputs": [],
   "source": [
    "test_s = data_s[:300]\n",
    "test_k = data_k[:300]"
   ]
  },
  {
   "cell_type": "code",
   "execution_count": 18,
   "id": "f4339c80",
   "metadata": {},
   "outputs": [],
   "source": [
    "tokenizer = FullTokenizer(vocab_file=vocab_path, do_lower_case=False)"
   ]
  },
  {
   "cell_type": "markdown",
   "id": "0045e439",
   "metadata": {},
   "source": [
    "토크나이저를 이용해 동화텍스트 토큰화"
   ]
  },
  {
   "cell_type": "markdown",
   "id": "c6cbdf15",
   "metadata": {},
   "source": [
    "- 데이터 정제 후 성능이 훨씬 좋아진다고 한다.\n",
    "- 정제해야 할것은 1. 작가소개 2. 챕터"
   ]
  },
  {
   "cell_type": "code",
   "execution_count": 19,
   "id": "3eed40e5",
   "metadata": {},
   "outputs": [
    {
     "name": "stdout",
     "output_type": "stream",
     "text": [
      "['교가', '끝', '##나', '##고', '나왔', '##을', '때', '잔', '##눈발', '##이', '날리', '##더니', '어느새', '함박', '##눈', '##으로', '바뀌', '##었', '##다', '.', '그래도', '민수', '##는', '걸음', '##을', '재촉', '##하', '##지', '않', '##는다', '.', '일찍', '가', '##더라도', '집', '##에', '##는', '아무', '##도', '없다', '.', '엄마', '##가', '오', '##는', '늦', '##은', '시간', '##까지', '민수', '##는', '외딴', '##집', '##에', '혼자', '있', '##어야', '한다', '.', '혼자', '있', '##으면', '외롭', '##고', '무섭', '##다', '.', \"'\", '누구', '##라도', '있', '##었', '##으면', '.', \"'\", '길', '##을', '걷', '##는데', '쓰레기통', '##이', '민수', '##의', '눈', '##에', '들어왔', '##다', '.', '안', '##에', '##는', '눈', '##에', '반', '##쯤', '덮인', '목각', '##인형', '##이', '있', '##었', '##다', '.', '\"', '불쌍', '##해', '.', '\"', '민수', '##는', '목각', '##인형', '##을', '꺼내', '눈', '##을', '훅', '불어', '##냈', '##다', '.', '목각', '##인형', '##을', '들', '##고', '다시', '집', '##으로', '향했', '##다', '.', '민수', '##가', '외딴', '##길', '##로', '접어들', '##었', '##을', '때', ',', '나무', '아래', '##에서', '눈', '##을', '피하', '##고', '있', '##는', '고양이', '##가', '보였', '##다']\n"
     ]
    }
   ],
   "source": [
    "tokens_s = tokenizer.tokenize(test_s)\n",
    "print(tokens_s)"
   ]
  },
  {
   "cell_type": "code",
   "execution_count": 20,
   "id": "ed05acad",
   "metadata": {},
   "outputs": [
    {
     "name": "stdout",
     "output_type": "stream",
     "text": [
      "['작가', '소개', '경기도', '여주', '##에서', '출생', '.', '중앙', '##대', '문예', '##창작', '##학과', '##를', '졸업', '##했다', '1990', '##년', '중편', '##소설', '벽', '속의', '새로', \"'\", '한국', '##문학', '신인', '##상', \"'\", '을', '받', '##으며', '문단', '##에', '나왔', '##다', '.', '1982', '##년', '1', '##월', '##부터', \"'\", '여원', \"'\", \"'\", '가정', '##조선', \"'\", '등의', '잡지', '##사', '##에서', '11', '##년', '7', '##개월', '동안', '기자', '생활', '##을', '했', '##다', '.', '1992', '##년', '장편', '##소설', '황제', '##수염', '##을', '발표', ',', '문단', '##의', '주목', '##을', '받', '##았', '##고', ',', '1994', '##년', '세', '발', '자전거', '##를', '타', '##는', '아이', '##로', '장편', '##동화', '부문']\n"
     ]
    }
   ],
   "source": [
    "tokens_k = tokenizer.tokenize(test_k)\n",
    "print(tokens_k)"
   ]
  },
  {
   "cell_type": "markdown",
   "id": "37edb090",
   "metadata": {},
   "source": [
    "단어들을 단어id로 바꾸기"
   ]
  },
  {
   "cell_type": "code",
   "execution_count": 22,
   "id": "f76b8eb2",
   "metadata": {},
   "outputs": [
    {
     "name": "stdout",
     "output_type": "stream",
     "text": [
      "[91009, 28794, 22573, 47248, 39781, 69343, 100562, 37512, 86899, 54917, 6533, 10342, 81072, 96446, 59096, 63550, 3525, 43616, 22935, 59230, 111206, 66936, 66682, 62566, 69343, 100754, 12255, 46190, 94313, 70242, 59230, 71937, 33879, 84671, 74951, 38485, 66682, 98722, 91440, 42878, 59230, 13487, 41251, 20921, 66682, 56489, 102004, 103593, 1854, 66936, 66682, 70942, 67407, 38485, 18272, 2051, 41600, 60146, 59230, 18272, 2051, 11314, 63458, 47248, 91481, 22935, 59230, 20212, 38267, 2782, 2051, 43616, 11314, 59230, 20212, 81869, 69343, 76806, 3765, 99812, 54917, 66936, 35102, 20964, 38485, 12072, 22935, 59230, 75291, 38485, 66682, 20964, 38485, 44988, 17681, 39663, 17448, 102121, 54917, 2051, 43616, 22935, 59230, 40022, 74717, 6048, 59230, 40022, 66936, 66682, 17448, 102121, 69343, 91129, 20964, 69343, 10254, 108454, 31248, 22935, 59230, 17448, 102121, 69343, 51571, 47248, 10230, 74951, 63550, 84891, 22935, 59230, 66936, 41251, 70942, 15008, 110598, 54868, 43616, 69343, 100562, 10739, 28613, 109966, 15996, 20964, 69343, 76968, 47248, 2051, 66682, 14776, 41251, 12510, 22935]\n"
     ]
    }
   ],
   "source": [
    "token_ids_s = tokenizer.convert_tokens_to_ids(tokens_s)\n",
    "print(token_ids_s)"
   ]
  },
  {
   "cell_type": "code",
   "execution_count": 23,
   "id": "01d22f6f",
   "metadata": {},
   "outputs": [
    {
     "name": "stdout",
     "output_type": "stream",
     "text": [
      "[58945, 92152, 82917, 37464, 15996, 25565, 59230, 15027, 57336, 103804, 101106, 12419, 91451, 22905, 4582, 37192, 64951, 22991, 34277, 105360, 73811, 47751, 26694, 47693, 12572, 20212, 17587, 9092, 20543, 105588, 20212, 46479, 34830, 28719, 722, 38485, 39781, 22935, 59230, 62182, 64951, 2389, 2158, 11141, 20212, 17864, 20212, 20212, 48055, 22738, 20212, 47214, 17342, 27751, 15996, 42859, 64951, 10766, 13602, 68482, 107110, 107602, 69343, 100470, 22935, 59230, 41786, 64951, 53481, 34277, 105360, 45397, 20226, 47693, 46479, 29543, 10739, 722, 35102, 98108, 69343, 34830, 64156, 47248, 10739, 19110, 64951, 105360, 25452, 19396, 28528, 91451, 17747, 66682, 65034, 47693, 12572, 77122]\n"
     ]
    }
   ],
   "source": [
    "token_ids_k = tokenizer.convert_tokens_to_ids(tokens_k)\n",
    "print(token_ids_k)"
   ]
  },
  {
   "cell_type": "markdown",
   "id": "1488970b",
   "metadata": {},
   "source": [
    "함수"
   ]
  },
  {
   "cell_type": "code",
   "execution_count": 24,
   "id": "daba4e61",
   "metadata": {},
   "outputs": [],
   "source": [
    "def get_tokenized_data(file_path):\n",
    "    with open(file_path, 'r') as f:\n",
    "        data = f.read()\n",
    "    tokenizer = FullTokenizer(vocab_file=vocab_path, do_lower_case=False)\n",
    "    print(\"Tokenizing all data...\")\n",
    "    tokens = tokenizer.tokenize(data)\n",
    "    data_token_ids = tokenizer.convert_tokens_to_ids(tokens)\n",
    "    print(\"Done.\")\n",
    "    return data_token_ids"
   ]
  },
  {
   "cell_type": "markdown",
   "id": "82fcd48e",
   "metadata": {},
   "source": [
    "함수 실행"
   ]
  },
  {
   "cell_type": "code",
   "execution_count": 28,
   "id": "cc304547",
   "metadata": {},
   "outputs": [
    {
     "name": "stdout",
     "output_type": "stream",
     "text": [
      "Tokenizing all data...\n",
      "Done.\n",
      "Tokenizing all data...\n",
      "Done.\n"
     ]
    }
   ],
   "source": [
    "sin_ids = get_tokenized_data(outfile_sin)\n",
    "kaist_ids = get_tokenized_data(outfile_kaist)"
   ]
  },
  {
   "cell_type": "code",
   "execution_count": 29,
   "id": "052e3e63",
   "metadata": {},
   "outputs": [
    {
     "data": {
      "text/plain": [
       "742243"
      ]
     },
     "execution_count": 29,
     "metadata": {},
     "output_type": "execute_result"
    }
   ],
   "source": [
    "len(sin_ids)"
   ]
  },
  {
   "cell_type": "code",
   "execution_count": 30,
   "id": "2fc65863",
   "metadata": {},
   "outputs": [
    {
     "data": {
      "text/plain": [
       "25173574"
      ]
     },
     "execution_count": 30,
     "metadata": {},
     "output_type": "execute_result"
    }
   ],
   "source": [
    "len(kaist_ids)"
   ]
  },
  {
   "cell_type": "markdown",
   "id": "23380a67",
   "metadata": {},
   "source": [
    "## 파일 저장"
   ]
  },
  {
   "cell_type": "code",
   "execution_count": 31,
   "id": "b23b96d6",
   "metadata": {},
   "outputs": [],
   "source": [
    "save_path = './데이터/CATEGORY/정제/data.hdf5'\n",
    "\n",
    "f = h5py.File(save_path, 'w')\n",
    "g = f.create_group(\"data\")\n",
    "g.create_dataset(\"sin\", data=sin_ids)\n",
    "g.create_dataset(\"kaist\", data=kaist_ids)\n",
    "f.close()"
   ]
  },
  {
   "cell_type": "markdown",
   "id": "3eee04d0",
   "metadata": {},
   "source": [
    "### 데이터 확인"
   ]
  },
  {
   "cell_type": "code",
   "execution_count": 73,
   "id": "8f6302fe",
   "metadata": {},
   "outputs": [
    {
     "data": {
      "text/plain": [
       "<HDF5 file \"data.hdf5\" (mode r)>"
      ]
     },
     "execution_count": 73,
     "metadata": {},
     "output_type": "execute_result"
    }
   ],
   "source": [
    "fi = h5py.File(save_path, 'r')\n",
    "fi"
   ]
  },
  {
   "cell_type": "code",
   "execution_count": 74,
   "id": "577e05f7",
   "metadata": {},
   "outputs": [
    {
     "data": {
      "text/plain": [
       "<KeysViewHDF5 ['data']>"
      ]
     },
     "execution_count": 74,
     "metadata": {},
     "output_type": "execute_result"
    }
   ],
   "source": [
    "fi.keys()"
   ]
  },
  {
   "cell_type": "code",
   "execution_count": 79,
   "id": "fd04c35d",
   "metadata": {},
   "outputs": [
    {
     "data": {
      "text/plain": [
       "array([ 40022,   8896,  44716, 102004,  12569, 109694,  65241,  59230,\n",
       "        40022,  44716,  82345,  86658, 103593,  59230,  53398,  63550,\n",
       "        52588,  77199,  54917,  66682,  20964,  69343,  86848,  28418,\n",
       "        11141,  42484,  64156,   2224,  59230,  40022,  76757,  53547,\n",
       "        92802,  52298,  16710,   3274, 111554,  40022,  66490, 110160,\n",
       "       111192,  38485,      1,  77199, 111325,  31928,  91451,    363,\n",
       "        29472,   2224,  59230, 109034,  90637,  59155,   9576,  46190,\n",
       "        43196,   6318,   6236, 102004,  20255,  69343,  51925,  57336,\n",
       "        55635,  11903,  91451,  39099,   2224,  59230,  66490,  33442,\n",
       "         1854,  88176,  69343,   2271,  48313,  63399,  82528,  54848,\n",
       "         3585,  40776,  68888,  91451,  51571,  52065,  27072,  73307,\n",
       "         2224,  59230,  20212,  11244, 111554,  48880,  41251,  75449,\n",
       "        52088,  35102,  38265,   1434])"
      ]
     },
     "execution_count": 79,
     "metadata": {},
     "output_type": "execute_result"
    }
   ],
   "source": [
    "fi['data']['sin'][:100]"
   ]
  },
  {
   "cell_type": "code",
   "execution_count": 80,
   "id": "d1ea55cc",
   "metadata": {},
   "outputs": [
    {
     "data": {
      "text/plain": [
       "array([  2389,  59230,  83994, ...,  28403,   3902, 110598])"
      ]
     },
     "execution_count": 80,
     "metadata": {},
     "output_type": "execute_result"
    }
   ],
   "source": [
    "fi['data']['kaist'][:10000]"
   ]
  },
  {
   "cell_type": "code",
   "execution_count": null,
   "id": "2d47f8bb",
   "metadata": {},
   "outputs": [],
   "source": []
  }
 ],
 "metadata": {
  "kernelspec": {
   "display_name": "Python 3 (ipykernel)",
   "language": "python",
   "name": "python3"
  },
  "language_info": {
   "codemirror_mode": {
    "name": "ipython",
    "version": 3
   },
   "file_extension": ".py",
   "mimetype": "text/x-python",
   "name": "python",
   "nbconvert_exporter": "python",
   "pygments_lexer": "ipython3",
   "version": "3.7.11"
  }
 },
 "nbformat": 4,
 "nbformat_minor": 5
}
